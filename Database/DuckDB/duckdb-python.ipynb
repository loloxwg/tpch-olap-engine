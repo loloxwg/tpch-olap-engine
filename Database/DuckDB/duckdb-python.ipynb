{
 "cells": [
  {
   "cell_type": "code",
   "execution_count": 168,
   "outputs": [
    {
     "name": "stdout",
     "output_type": "stream",
     "text": [
      "Requirement already satisfied: duckdb in /opt/homebrew/Caskroom/miniconda/base/lib/python3.10/site-packages (0.8.1)\r\n",
      "Note: you may need to restart the kernel to use updated packages.\n"
     ]
    }
   ],
   "source": [
    "%pip install duckdb"
   ],
   "metadata": {
    "collapsed": false,
    "ExecuteTime": {
     "end_time": "2023-07-10T06:44:59.414115Z",
     "start_time": "2023-07-10T06:44:58.145373Z"
    }
   }
  },
  {
   "cell_type": "code",
   "execution_count": 154,
   "metadata": {
    "collapsed": true,
    "ExecuteTime": {
     "end_time": "2023-07-10T06:40:22.284413Z",
     "start_time": "2023-07-10T06:40:22.268709Z"
    }
   },
   "outputs": [
    {
     "data": {
      "text/plain": "<duckdb.DuckDBPyConnection at 0x137b6ceb0>"
     },
     "execution_count": 154,
     "metadata": {},
     "output_type": "execute_result"
    }
   ],
   "source": [
    "import duckdb\n",
    "\n",
    "# basic SQL API\n",
    "\n",
    "# connect to an in-memory temporary database\n",
    "conn = duckdb.connect()\n",
    "\n",
    "# if you want, you can create a cursor() like described in PEP 249 but its fully redundant\n",
    "cursor = conn.cursor()\n",
    "\n",
    "# run arbitrary SQL commands\n",
    "conn.execute(\"CREATE TABLE test_table (i INTEGER, j STRING)\")"
   ]
  },
  {
   "cell_type": "code",
   "execution_count": 155,
   "outputs": [
    {
     "data": {
      "text/plain": "<duckdb.DuckDBPyConnection at 0x137b6ceb0>"
     },
     "execution_count": 155,
     "metadata": {},
     "output_type": "execute_result"
    }
   ],
   "source": [
    "conn.execute(\"INSERT INTO test_table VALUES (1, 'one')\")\n",
    "\n",
    "# we can use placeholders for parameters\n",
    "conn.execute(\"INSERT INTO test_table VALUES (?, ?)\", [2, 'two'])"
   ],
   "metadata": {
    "collapsed": false,
    "ExecuteTime": {
     "end_time": "2023-07-10T06:40:22.301751Z",
     "start_time": "2023-07-10T06:40:22.284085Z"
    }
   }
  },
  {
   "cell_type": "code",
   "execution_count": 156,
   "outputs": [
    {
     "data": {
      "text/plain": "<duckdb.DuckDBPyConnection at 0x137b6ceb0>"
     },
     "execution_count": 156,
     "metadata": {},
     "output_type": "execute_result"
    }
   ],
   "source": [
    "# we can provide multiple sets of parameters to executemany()\n",
    "conn.executemany(\"INSERT INTO test_table VALUES (?, ?)\", [[3, 'three'], [4, 'four']])\n",
    "\n",
    "\n",
    "\n"
   ],
   "metadata": {
    "collapsed": false,
    "ExecuteTime": {
     "end_time": "2023-07-10T06:40:22.301917Z",
     "start_time": "2023-07-10T06:40:22.284733Z"
    }
   }
  },
  {
   "cell_type": "code",
   "execution_count": 157,
   "outputs": [
    {
     "name": "stdout",
     "output_type": "stream",
     "text": [
      "   i      j\n",
      "0  1    one\n",
      "1  2    two\n",
      "2  3  three\n",
      "3  4   four\n"
     ]
    }
   ],
   "source": [
    "# fetch as pandas data frame\n",
    "print(conn.execute(\"SELECT * FROM test_table\").fetchdf())\n",
    "\n"
   ],
   "metadata": {
    "collapsed": false,
    "ExecuteTime": {
     "end_time": "2023-07-10T06:40:22.302155Z",
     "start_time": "2023-07-10T06:40:22.284949Z"
    }
   }
  },
  {
   "cell_type": "code",
   "execution_count": 158,
   "outputs": [
    {
     "name": "stdout",
     "output_type": "stream",
     "text": [
      "{'i': array([1, 2, 3, 4], dtype=int32), 'j': array(['one', 'two', 'three', 'four'], dtype=object)}\n"
     ]
    }
   ],
   "source": [
    "# fetch as list of masked numpy arrays, cleaner when handling NULLs\n",
    "print(conn.execute(\"SELECT * FROM test_table\").fetchnumpy())\n"
   ],
   "metadata": {
    "collapsed": false,
    "ExecuteTime": {
     "end_time": "2023-07-10T06:40:22.302372Z",
     "start_time": "2023-07-10T06:40:22.289106Z"
    }
   }
  },
  {
   "cell_type": "code",
   "execution_count": 159,
   "outputs": [],
   "source": [
    "# we can query pandas data frames as if they were SQL views\n",
    "# create a sample pandas data frame\n",
    "import pandas as pd\n",
    "test_df = pd.DataFrame.from_dict({\"i\":[1, 2, 3, 4], \"j\":[\"one\", \"two\", \"three\", \"four\"]})\n"
   ],
   "metadata": {
    "collapsed": false,
    "ExecuteTime": {
     "end_time": "2023-07-10T06:40:22.302421Z",
     "start_time": "2023-07-10T06:40:22.294190Z"
    }
   }
  },
  {
   "cell_type": "code",
   "execution_count": 160,
   "outputs": [
    {
     "name": "stdout",
     "output_type": "stream",
     "text": [
      "       j\n",
      "0    two\n",
      "1  three\n",
      "2   four\n"
     ]
    }
   ],
   "source": [
    "# make this data frame available as a view in duckdb\n",
    "conn.register(\"test_df\", test_df)\n",
    "print(conn.execute(\"SELECT j FROM test_df WHERE i > 1\").fetchdf())\n",
    "\n"
   ],
   "metadata": {
    "collapsed": false,
    "ExecuteTime": {
     "end_time": "2023-07-10T06:40:22.302776Z",
     "start_time": "2023-07-10T06:40:22.298473Z"
    }
   }
  },
  {
   "cell_type": "code",
   "execution_count": 161,
   "outputs": [
    {
     "name": "stdout",
     "output_type": "stream",
     "text": [
      "┌───────┬─────────┐\n",
      "│   i   │    j    │\n",
      "│ int64 │ varchar │\n",
      "├───────┼─────────┤\n",
      "│     1 │ one     │\n",
      "│     2 │ two     │\n",
      "│     3 │ three   │\n",
      "│     4 │ four    │\n",
      "└───────┴─────────┘\n",
      "\n"
     ]
    }
   ],
   "source": [
    "# relation API, programmatic querying. relations are lazily evaluated chains of relational operators\n",
    "\n",
    "# create a \"relation\" from a pandas data frame with an existing connection\n",
    "rel = conn.from_df(test_df)\n",
    "print(rel)\n"
   ],
   "metadata": {
    "collapsed": false,
    "ExecuteTime": {
     "end_time": "2023-07-10T06:40:22.308387Z",
     "start_time": "2023-07-10T06:40:22.304029Z"
    }
   }
  },
  {
   "cell_type": "code",
   "execution_count": 162,
   "outputs": [
    {
     "name": "stdout",
     "output_type": "stream",
     "text": [
      "┌───────┬─────────┐\n",
      "│   i   │    j    │\n",
      "│ int64 │ varchar │\n",
      "├───────┼─────────┤\n",
      "│     1 │ one     │\n",
      "│     2 │ two     │\n",
      "│     3 │ three   │\n",
      "│     4 │ four    │\n",
      "└───────┴─────────┘\n",
      "\n"
     ]
    }
   ],
   "source": [
    "# alternative shorthand, use a built-in default connection to create a relation from a pandas data frame\n",
    "rel = duckdb.df(test_df)\n",
    "print(rel)\n"
   ],
   "metadata": {
    "collapsed": false,
    "ExecuteTime": {
     "end_time": "2023-07-10T06:40:22.311480Z",
     "start_time": "2023-07-10T06:40:22.308582Z"
    }
   }
  },
  {
   "cell_type": "code",
   "execution_count": 163,
   "outputs": [],
   "source": [
    "# create a relation from a CSV file\n",
    "\n",
    "# first create a CSV file from our pandas example\n",
    "import tempfile, os\n",
    "temp_file_name = os.path.join(tempfile.mkdtemp(), next(tempfile._get_candidate_names()))\n",
    "test_df.to_csv(temp_file_name, index=False)\n"
   ],
   "metadata": {
    "collapsed": false,
    "ExecuteTime": {
     "end_time": "2023-07-10T06:40:22.316926Z",
     "start_time": "2023-07-10T06:40:22.312330Z"
    }
   }
  },
  {
   "cell_type": "code",
   "execution_count": 164,
   "outputs": [
    {
     "name": "stdout",
     "output_type": "stream",
     "text": [
      "┌───────┬─────────┐\n",
      "│   i   │    j    │\n",
      "│ int64 │ varchar │\n",
      "├───────┼─────────┤\n",
      "│     1 │ one     │\n",
      "│     2 │ two     │\n",
      "│     3 │ three   │\n",
      "│     4 │ four    │\n",
      "└───────┴─────────┘\n",
      "\n"
     ]
    }
   ],
   "source": [
    "# now create a relation from it\n",
    "rel = duckdb.from_csv_auto(temp_file_name)\n",
    "print(rel)\n"
   ],
   "metadata": {
    "collapsed": false,
    "ExecuteTime": {
     "end_time": "2023-07-10T06:40:22.320032Z",
     "start_time": "2023-07-10T06:40:22.317286Z"
    }
   }
  },
  {
   "cell_type": "code",
   "execution_count": 165,
   "outputs": [
    {
     "name": "stdout",
     "output_type": "stream",
     "text": [
      "┌───────┬─────────┐\n",
      "│   i   │    j    │\n",
      "│ int32 │ varchar │\n",
      "├───────┼─────────┤\n",
      "│     1 │ one     │\n",
      "│     2 │ two     │\n",
      "│     3 │ three   │\n",
      "│     4 │ four    │\n",
      "└───────┴─────────┘\n",
      "\n"
     ]
    }
   ],
   "source": [
    "# create a relation from an existing table\n",
    "rel = conn.table(\"test_table\")\n",
    "print(rel)\n"
   ],
   "metadata": {
    "collapsed": false,
    "ExecuteTime": {
     "end_time": "2023-07-10T06:40:22.376559Z",
     "start_time": "2023-07-10T06:40:22.320613Z"
    }
   }
  },
  {
   "cell_type": "code",
   "execution_count": 166,
   "outputs": [
    {
     "name": "stdout",
     "output_type": "stream",
     "text": [
      "┌─────────┐\n",
      "│ (i + 1) │\n",
      "│  int32  │\n",
      "├─────────┤\n",
      "│       2 │\n",
      "│       3 │\n",
      "│       4 │\n",
      "│       5 │\n",
      "└─────────┘\n",
      "\n",
      "┌───────┬─────────┐\n",
      "│   i   │    j    │\n",
      "│ int32 │ varchar │\n",
      "├───────┼─────────┤\n",
      "│     4 │ four    │\n",
      "│     1 │ one     │\n",
      "│     3 │ three   │\n",
      "│     2 │ two     │\n",
      "└───────┴─────────┘\n",
      "\n"
     ]
    }
   ],
   "source": [
    "# order the relation\n",
    "print(rel.project('i + 1'))\n",
    "print(rel.order('j'))\n"
   ],
   "metadata": {
    "collapsed": false,
    "ExecuteTime": {
     "end_time": "2023-07-10T06:40:22.385796Z",
     "start_time": "2023-07-10T06:40:22.323650Z"
    }
   }
  },
  {
   "cell_type": "code",
   "execution_count": 167,
   "outputs": [
    {
     "ename": "BinderException",
     "evalue": "Binder Error: Referenced column \"j\" not found in FROM clause!\nCandidate bindings: \"test_table.(i + 1)\"",
     "output_type": "error",
     "traceback": [
      "\u001B[0;31m---------------------------------------------------------------------------\u001B[0m",
      "\u001B[0;31mBinderException\u001B[0m                           Traceback (most recent call last)",
      "Cell \u001B[0;32mIn[167], line 3\u001B[0m\n\u001B[1;32m      1\u001B[0m \u001B[38;5;66;03m# of course these things can be chained\u001B[39;00m\n\u001B[0;32m----> 3\u001B[0m \u001B[38;5;28mprint\u001B[39m(\u001B[43mrel\u001B[49m\u001B[38;5;241;43m.\u001B[39;49m\u001B[43mfilter\u001B[49m\u001B[43m(\u001B[49m\u001B[38;5;124;43m'\u001B[39;49m\u001B[38;5;124;43mi > 1\u001B[39;49m\u001B[38;5;124;43m'\u001B[39;49m\u001B[43m)\u001B[49m\u001B[38;5;241;43m.\u001B[39;49m\u001B[43mproject\u001B[49m\u001B[43m(\u001B[49m\u001B[38;5;124;43m'\u001B[39;49m\u001B[38;5;124;43mi + 1\u001B[39;49m\u001B[38;5;124;43m'\u001B[39;49m\u001B[43m)\u001B[49m\u001B[38;5;241;43m.\u001B[39;49m\u001B[43morder\u001B[49m\u001B[43m(\u001B[49m\u001B[38;5;124;43m'\u001B[39;49m\u001B[38;5;124;43mj\u001B[39;49m\u001B[38;5;124;43m'\u001B[39;49m\u001B[43m)\u001B[49m\u001B[38;5;241m.\u001B[39mlimit(\u001B[38;5;241m2\u001B[39m))\n\u001B[1;32m      4\u001B[0m \u001B[38;5;66;03m# aggregate the relation\u001B[39;00m\n\u001B[1;32m      5\u001B[0m \u001B[38;5;28mprint\u001B[39m(rel\u001B[38;5;241m.\u001B[39maggregate(\u001B[38;5;124m\"\u001B[39m\u001B[38;5;124msum(i)\u001B[39m\u001B[38;5;124m\"\u001B[39m))\n",
      "\u001B[0;31mBinderException\u001B[0m: Binder Error: Referenced column \"j\" not found in FROM clause!\nCandidate bindings: \"test_table.(i + 1)\""
     ]
    }
   ],
   "source": [
    "# of course these things can be chained\n",
    "\n",
    "print(rel.filter('i > 1').project('i + 1').order('j').limit(2))\n",
    "\n",
    "\n"
   ],
   "metadata": {
    "collapsed": false,
    "ExecuteTime": {
     "end_time": "2023-07-10T06:40:22.386824Z",
     "start_time": "2023-07-10T06:40:22.332657Z"
    }
   }
  },
  {
   "cell_type": "code",
   "execution_count": null,
   "outputs": [],
   "source": [],
   "metadata": {
    "collapsed": false,
    "ExecuteTime": {
     "start_time": "2023-07-10T06:40:22.353929Z"
    }
   }
  }
 ],
 "metadata": {
  "kernelspec": {
   "display_name": "Python 3",
   "language": "python",
   "name": "python3"
  },
  "language_info": {
   "codemirror_mode": {
    "name": "ipython",
    "version": 2
   },
   "file_extension": ".py",
   "mimetype": "text/x-python",
   "name": "python",
   "nbconvert_exporter": "python",
   "pygments_lexer": "ipython2",
   "version": "2.7.6"
  }
 },
 "nbformat": 4,
 "nbformat_minor": 0
}
