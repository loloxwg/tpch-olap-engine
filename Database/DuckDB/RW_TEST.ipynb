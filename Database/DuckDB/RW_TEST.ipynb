{
 "cells": [
  {
   "cell_type": "code",
   "execution_count": 7,
   "metadata": {
    "id": "Klts0Lp4EPz6",
    "ExecuteTime": {
     "end_time": "2023-07-28T09:31:36.791181Z",
     "start_time": "2023-07-28T09:31:36.786066Z"
    }
   },
   "outputs": [],
   "source": [
    "sf=1"
   ]
  },
  {
   "attachments": {},
   "cell_type": "markdown",
   "metadata": {
    "id": "wq5HHFy_fbze"
   },
   "source": [
    "# GENERATE TPCH PARQUET FILES"
   ]
  },
  {
   "cell_type": "code",
   "execution_count": 8,
   "metadata": {
    "colab": {
     "base_uri": "https://localhost:8080/"
    },
    "id": "mgc_2GlVfJSt",
    "outputId": "8ac9f2b3-3450-4a7a-c317-8f6a0143efe7",
    "ExecuteTime": {
     "end_time": "2023-07-28T09:31:40.281545Z",
     "start_time": "2023-07-28T09:31:36.790808Z"
    }
   },
   "outputs": [
    {
     "name": "stdout",
     "output_type": "stream",
     "text": [
      "Requirement already satisfied: duckdb==0.8.1 in /opt/homebrew/Caskroom/miniconda/base/lib/python3.10/site-packages (0.8.1)\r\n",
      "Note: you may need to restart the kernel to use updated packages.\n",
      "Requirement already satisfied: numpy in /opt/homebrew/Caskroom/miniconda/base/lib/python3.10/site-packages (1.25.0)\r\n",
      "Note: you may need to restart the kernel to use updated packages.\n",
      "Requirement already satisfied: matplotlib in /opt/homebrew/Caskroom/miniconda/base/lib/python3.10/site-packages (3.7.1)\r\n",
      "Requirement already satisfied: cycler>=0.10 in /opt/homebrew/Caskroom/miniconda/base/lib/python3.10/site-packages (from matplotlib) (0.11.0)\r\n",
      "Requirement already satisfied: contourpy>=1.0.1 in /opt/homebrew/Caskroom/miniconda/base/lib/python3.10/site-packages (from matplotlib) (1.0.5)\r\n",
      "Requirement already satisfied: pyparsing>=2.3.1 in /opt/homebrew/Caskroom/miniconda/base/lib/python3.10/site-packages (from matplotlib) (3.0.9)\r\n",
      "Requirement already satisfied: python-dateutil>=2.7 in /opt/homebrew/Caskroom/miniconda/base/lib/python3.10/site-packages (from matplotlib) (2.8.2)\r\n",
      "Requirement already satisfied: pillow>=6.2.0 in /opt/homebrew/Caskroom/miniconda/base/lib/python3.10/site-packages (from matplotlib) (9.4.0)\r\n",
      "Requirement already satisfied: packaging>=20.0 in /opt/homebrew/Caskroom/miniconda/base/lib/python3.10/site-packages (from matplotlib) (23.0)\r\n",
      "Requirement already satisfied: fonttools>=4.22.0 in /opt/homebrew/Caskroom/miniconda/base/lib/python3.10/site-packages (from matplotlib) (4.25.0)\r\n",
      "Requirement already satisfied: kiwisolver>=1.0.1 in /opt/homebrew/Caskroom/miniconda/base/lib/python3.10/site-packages (from matplotlib) (1.4.4)\r\n",
      "Requirement already satisfied: numpy>=1.20 in /opt/homebrew/Caskroom/miniconda/base/lib/python3.10/site-packages (from matplotlib) (1.25.0)\r\n",
      "Requirement already satisfied: six>=1.5 in /opt/homebrew/Caskroom/miniconda/base/lib/python3.10/site-packages (from python-dateutil>=2.7->matplotlib) (1.16.0)\r\n",
      "Note: you may need to restart the kernel to use updated packages.\n",
      "Name: duckdb\r\n",
      "Version: 0.8.1\r\n",
      "Summary: DuckDB embedded database\r\n",
      "Home-page: https://www.duckdb.org\r\n",
      "Author: \r\n",
      "Author-email: \r\n",
      "License: MIT\r\n",
      "Location: /opt/homebrew/Caskroom/miniconda/base/lib/python3.10/site-packages\r\n",
      "Requires: \r\n",
      "Required-by: duckdb-engine, tpch-duckdb-bench\r\n",
      "Note: you may need to restart the kernel to use updated packages.\n"
     ]
    }
   ],
   "source": [
    "%pip install duckdb==0.8.1\n",
    "%pip install numpy\n",
    "%pip  install matplotlib\n",
    "%pip show duckdb"
   ]
  },
  {
   "cell_type": "code",
   "execution_count": 9,
   "outputs": [
    {
     "name": "stdout",
     "output_type": "stream",
     "text": [
      "0.0009589195251464844\n",
      "9.122267961502075\n",
      "0.00017261505126953125\n",
      "7.298788785934448\n",
      "        dur           type\n",
      "0  0.000959  single insert\n",
      "1  9.122268    bulk insert\n",
      "2  0.000173  single search\n",
      "3  7.298789    bulk select\n"
     ]
    }
   ],
   "source": [
    "import duckdb\n",
    "import time\n",
    "import pandas as pd\n",
    "import random\n",
    "\n",
    "# basic SQL API\n",
    "\n",
    "# connect to an in-memory temporary database\n",
    "#conn = duckdb.connect()\n",
    "conn = duckdb.connect(f\"./rw/RW.DUCKDB\")\n",
    "# if you want, you can create a cursor() like described in PEP 249 but its fully redundant\n",
    "cursor = conn.cursor()\n",
    "\n",
    "# run arbitrary SQL commands\n",
    "conn.execute(\"CREATE TABLE IF NOT EXISTS test_table  (i INTEGER, j STRING)\")\n",
    "\n",
    "df = pd.DataFrame(columns=['dur'])\n",
    "\n",
    "\n",
    "# single insert\n",
    "test_type='single insert'\n",
    "start=time.time()\n",
    "conn.execute(\"INSERT INTO test_table VALUES (1, 'one')\")\n",
    "stop = time.time()\n",
    "duration = stop-start\n",
    "print(duration)\n",
    "\n",
    "row = {'dur': duration,'type':test_type }\n",
    "df = pd.concat([df,pd.DataFrame(row, index=[test_type])], axis=0, ignore_index=True)\n",
    "\n",
    "# Bulk Insert Data\n",
    "test_type='bulk insert'\n",
    "start=time.time()\n",
    "\n",
    "for num in range(0,99999):\n",
    "    # n=int(num)\n",
    "    n=random.randint(0,99999)\n",
    "\n",
    "    conn.execute(\"INSERT INTO test_table VALUES (?, ?)\", [n, 'one'])\n",
    "\n",
    "stop = time.time()\n",
    "\n",
    "duration = stop-start\n",
    "print(duration)\n",
    "\n",
    "row = {'dur': duration,'type':test_type }\n",
    "df = pd.concat([df,pd.DataFrame(row, index=[test_type])], axis=0, ignore_index=True)\n",
    "\n",
    "\n",
    "# single select\n",
    "test_type='single search'\n",
    "start=time.time()\n",
    "conn.execute(\"select * from test_table where i =99998\")\n",
    "stop = time.time()\n",
    "duration = stop-start\n",
    "print(duration)\n",
    "\n",
    "row = {'dur': duration,'type':test_type }\n",
    "df = pd.concat([df,pd.DataFrame(row, index=[test_type])], axis=0, ignore_index=True)\n",
    "\n",
    "# bulk select\n",
    "test_type='bulk select'\n",
    "start=time.time()\n",
    "for num in range(0,99999):\n",
    "    n=int(num)\n",
    "    conn.execute(\"select * from test_table where i = ?\",[n])\n",
    "\n",
    "stop = time.time()\n",
    "duration = stop-start\n",
    "print(duration)\n",
    "\n",
    "row = {'dur': duration,'type':test_type }\n",
    "df = pd.concat([df,pd.DataFrame(row, index=[test_type])], axis=0, ignore_index=True)\n",
    "conn.close()\n",
    "print(df)\n",
    "\n"
   ],
   "metadata": {
    "collapsed": false,
    "ExecuteTime": {
     "end_time": "2023-07-28T09:31:56.734295Z",
     "start_time": "2023-07-28T09:31:40.291821Z"
    }
   }
  }
 ],
 "metadata": {
  "colab": {
   "provenance": []
  },
  "kernelspec": {
   "display_name": "base",
   "language": "python",
   "name": "python3"
  },
  "language_info": {
   "codemirror_mode": {
    "name": "ipython",
    "version": 3
   },
   "file_extension": ".py",
   "mimetype": "text/x-python",
   "name": "python",
   "nbconvert_exporter": "python",
   "pygments_lexer": "ipython3",
   "version": "3.10.11"
  }
 },
 "nbformat": 4,
 "nbformat_minor": 4
}
